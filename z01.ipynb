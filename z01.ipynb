{
 "cells": [
  {
   "cell_type": "code",
   "execution_count": null,
   "id": "6b9aa09e",
   "metadata": {},
   "outputs": [],
   "source": [
    "from modelscope import snapshot_download\n",
    "# snapshot_download('ByteDance/Dolphin', local_dir='pretrained_models/Dolphin')\n",
    "\n",
    "snapshot_download('microsoft/VibeVoice-1.5B', local_dir='pretrained_models/VibeVoice-1.5B')"
   ]
  },
  {
   "cell_type": "code",
   "execution_count": null,
   "id": "ceb2f9d7",
   "metadata": {},
   "outputs": [],
   "source": [
    "!python demo/inference_from_file.py --model_path /Users/larry/coderesp/VibeVoice/pretrained_models/VibeVoice-1.5B --txt_path demo/text_examples/1p_Ch2EN.txt --output_dir output --speaker_names Alice Frank\n"
   ]
  },
  {
   "cell_type": "code",
   "execution_count": null,
   "id": "19f62f7b",
   "metadata": {},
   "outputs": [],
   "source": [
    "!python demo/inference_from_file.py --model_path /Users/larry/coderesp/VibeVoice/VibeVoice-1.5B --txt_path tiyan/output/1p_tiyan-3.txt --output_dir tiyan/output --speaker_names phi1\n"
   ]
  },
  {
   "cell_type": "code",
   "execution_count": null,
   "id": "ec5f565f",
   "metadata": {},
   "outputs": [],
   "source": [
    "#/Users/larry/ai/mnist/stt/downloads/BV1My4y1j7U2-zh.srt\n",
    "!python demo/inference_from_file.py --model_path /Users/larry/coderesp/VibeVoice/VibeVoice-1.5B --txt_path /Users/larry/ai/mnist/stt/downloads/BV1My4y1j7U2-zh.txt --output_dir output --speaker_names youyi"
   ]
  },
  {
   "cell_type": "code",
   "execution_count": null,
   "id": "13ee236e",
   "metadata": {},
   "outputs": [],
   "source": [
    "/Users/larry/coderesp/Dolphin/results_jiti/result_correct.txt"
   ]
  }
 ],
 "metadata": {
  "kernelspec": {
   "display_name": "vv311",
   "language": "python",
   "name": "python3"
  },
  "language_info": {
   "codemirror_mode": {
    "name": "ipython",
    "version": 3
   },
   "file_extension": ".py",
   "mimetype": "text/x-python",
   "name": "python",
   "nbconvert_exporter": "python",
   "pygments_lexer": "ipython3",
   "version": "3.11.13"
  }
 },
 "nbformat": 4,
 "nbformat_minor": 5
}
